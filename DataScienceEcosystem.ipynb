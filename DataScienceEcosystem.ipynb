{
 "cells": [
  {
   "cell_type": "markdown",
   "id": "8eff20ba-a024-4487-8b8c-77632158a8eb",
   "metadata": {},
   "source": [
    "# Data Science Tools and Ecosystem"
   ]
  },
  {
   "cell_type": "markdown",
   "id": "02c77e58-7a0c-4813-850e-8899c132035e",
   "metadata": {},
   "source": [
    "In this notebook, Data Science Tools and Ecosystems are summarized."
   ]
  },
  {
   "cell_type": "markdown",
   "id": "c83b6fab-b039-43bb-b4af-cfae8eca5f7f",
   "metadata": {},
   "source": [
    "**Objectives:**"
   ]
  },
  {
   "cell_type": "markdown",
   "id": "c430da68-4f1d-4f20-811b-922bd6c4e28a",
   "metadata": {},
   "source": [
    "- Python\n",
    "- R\n",
    "- Ruby"
   ]
  },
  {
   "cell_type": "markdown",
   "id": "0d64848c-f27f-4751-8728-804605cf7661",
   "metadata": {},
   "source": [
    "Some of the popular languages that Data Scientists use are:"
   ]
  },
  {
   "cell_type": "markdown",
   "id": "5c7784a4-b5b6-4103-bf50-4e0608159676",
   "metadata": {},
   "source": [
    "1. Python\n",
    "2. R\n",
    "3. Ruby"
   ]
  },
  {
   "cell_type": "markdown",
   "id": "83a8de71-f73f-4903-8179-c638242678f9",
   "metadata": {},
   "source": [
    "Some of the commonly used libraries used by Data Scientists include:"
   ]
  },
  {
   "cell_type": "markdown",
   "id": "9d3b46fd-89d9-4705-826c-8471bd8cbdd7",
   "metadata": {},
   "source": [
    "1. Panda\n",
    "2. NumPy\n",
    "3. Matplotlib"
   ]
  },
  {
   "cell_type": "markdown",
   "id": "f73974c2-5359-4b55-b507-fd6f2ce31eca",
   "metadata": {},
   "source": [
    "| Data Science Tools |\n",
    "| - |\n",
    "| Jupyter Notebook |\n",
    "| Spyder |\n",
    "| RStudio |"
   ]
  },
  {
   "cell_type": "markdown",
   "id": "7be60651-2349-47ef-86bd-0c709b7df22f",
   "metadata": {},
   "source": [
    "### Below are a few examples of evaluating arithmetic expressions in Python."
   ]
  },
  {
   "cell_type": "code",
   "execution_count": 11,
   "id": "7967ceba-3d75-409f-bb70-441362e615b5",
   "metadata": {},
   "outputs": [
    {
     "data": {
      "text/plain": [
       "17"
      ]
     },
     "execution_count": 11,
     "metadata": {},
     "output_type": "execute_result"
    }
   ],
   "source": [
    "# This is a simple arithmetic expression to multiply then add integers.\n",
    "(3*4)+5"
   ]
  },
  {
   "cell_type": "code",
   "execution_count": 12,
   "id": "2bb48e2f-5c4a-452b-976c-dc6ceb8dfe77",
   "metadata": {},
   "outputs": [
    {
     "data": {
      "text/plain": [
       "3.3333333333333335"
      ]
     },
     "execution_count": 12,
     "metadata": {},
     "output_type": "execute_result"
    }
   ],
   "source": [
    "# This will convert 200 minutes to hours by dividing by 60.\n",
    "200/60"
   ]
  },
  {
   "cell_type": "markdown",
   "id": "9b9cf968-d3d3-451e-8fb6-13aaa53e4c25",
   "metadata": {},
   "source": [
    "## Author"
   ]
  },
  {
   "cell_type": "markdown",
   "id": "b93ac8f2-4c21-498b-a721-4faefa84a08d",
   "metadata": {},
   "source": [
    "Seoyul Ryu"
   ]
  }
 ],
 "metadata": {
  "kernelspec": {
   "display_name": "Python 3 (ipykernel)",
   "language": "python",
   "name": "python3"
  },
  "language_info": {
   "codemirror_mode": {
    "name": "ipython",
    "version": 3
   },
   "file_extension": ".py",
   "mimetype": "text/x-python",
   "name": "python",
   "nbconvert_exporter": "python",
   "pygments_lexer": "ipython3",
   "version": "3.9.13"
  }
 },
 "nbformat": 4,
 "nbformat_minor": 5
}
